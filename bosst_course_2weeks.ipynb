{
  "nbformat": 4,
  "nbformat_minor": 0,
  "metadata": {
    "colab": {
      "provenance": []
    },
    "kernelspec": {
      "name": "python3",
      "display_name": "Python 3"
    },
    "language_info": {
      "name": "python"
    },
    "accelerator": "GPU",
    "gpuClass": "standard"
  },
  "cells": [
    {
      "cell_type": "code",
      "source": [
        "from google.colab import drive\n",
        "drive.mount('/content/drive')"
      ],
      "metadata": {
        "colab": {
          "base_uri": "https://localhost:8080/"
        },
        "id": "0FeOKGRXdMDz",
        "outputId": "971f676d-51dc-4408-ca4e-6fa0459dd608"
      },
      "execution_count": null,
      "outputs": [
        {
          "output_type": "stream",
          "name": "stdout",
          "text": [
            "Mounted at /content/drive\n"
          ]
        }
      ]
    },
    {
      "cell_type": "markdown",
      "source": [
        "## 2주차 미션\n",
        "- 파이썬에서 사용하는 클래스를 사용해 미션을 수행해보겠습니다.\n",
        "- 중간 중간 파일을 입력 받아 처리해보는 함수도 같이 구현해보겠습니다."
      ],
      "metadata": {
        "id": "aXgWD69bcW5f"
      }
    },
    {
      "cell_type": "markdown",
      "source": [
        "### 📌Q1. 중간고사 기말고사 점수를 따로 받아 저장하는 클래스를 구현해보세요. 단, 생성자의 인스턴스는 private으로 선언되어야 하며, 데코레이터를 이용해 데이터를 저장하고, 함수를 이용해 평균값을 출력해보세요.\n",
        "- 자료형의 선언과 데코레이터를 이용해보세요.  \n",
        "\n",
        "```python\n",
        "# test score, mid : 50, final : 75\n",
        "class Score():\n",
        "    # TODO\n",
        "\n",
        "# 출력 함수\n",
        "score = Score(50, 75)\n",
        "print((score.mid + score.final) / 2)\n",
        "```\n",
        "\n",
        "```bash\n",
        "# 출력 예시\n",
        ">> 62.5\n",
        "```"
      ],
      "metadata": {
        "id": "ZEKkBGyPciRO"
      }
    },
    {
      "cell_type": "code",
      "source": [
        "# class 정의\n",
        "class Score():  \n",
        "\n",
        "    # __ + instance_name을 통해 private 변수 선언\n",
        "    def __init__(self, mid, final):\n",
        "        self.__mid = mid\n",
        "        self.__final = final\n",
        "\n",
        "    # property 데코레이터를 사용해 private 변수 값을 get할 수 있음\n",
        "    @property\n",
        "    def mid(self):\n",
        "        return self.__mid\n",
        "\n",
        "    @property\n",
        "    def final(self):\n",
        "        return self.__final\n",
        "\n",
        "# 출력 함수\n",
        "score = Score(50, 75)\n",
        "print((score.mid + score.final) / 2)"
      ],
      "metadata": {
        "colab": {
          "base_uri": "https://localhost:8080/"
        },
        "id": "TaSA8n3IdFw1",
        "outputId": "ca53a732-05b4-4e6e-ab45-c86e7d61fb66"
      },
      "execution_count": null,
      "outputs": [
        {
          "output_type": "stream",
          "name": "stdout",
          "text": [
            "62.5\n"
          ]
        }
      ]
    },
    {
      "cell_type": "markdown",
      "source": [
        "### 📌Q2. 다양한 탈 것을 사용하는 게임을 만드는 중입니다. 빠른 구현을 위해서 이미 구현한 Car 클래스를 이용해서 Bike라는 클래스를 새로 제작하려고 합니다. Car 클래스를 상속받아서 새로운 Bike 클래스를 아래와 같이 출력되도록 구성해보세요.\n",
        "- Bike class는 size 인자를 추가로 가집니다.  \n",
        "\n",
        "```python\n",
        "class Car():\n",
        "\n",
        "    def __init__(self, fuel, wheels):\n",
        "        self.fuel = fuel\n",
        "        self.wheels = wheels\n",
        "\n",
        "class Bike():\n",
        "    # TODO\n",
        "```\n",
        "```bash\n",
        ">>> bike = Bike(\"gas\", 2, \"small\")\n",
        ">>> print(bike.fuel, bike.wheels, bike.size)\n",
        "gas 2 small\n",
        "```"
      ],
      "metadata": {
        "id": "-AJUSa6RkGYT"
      }
    },
    {
      "cell_type": "code",
      "source": [
        "# 주어진 부모 클래스\n",
        "class Car():\n",
        "\n",
        "    def __init__(self, fuel, wheels):\n",
        "        self.fuel = fuel\n",
        "        self.wheels = wheels\n",
        "\n",
        "# Car 클래스를 상속\n",
        "class Bike(Car):\n",
        "    \n",
        "    def __init__(self, fuel, wheels, size):\n",
        "        # super 매서드를 사용하여, 부모 클래스의 변수 초기화\n",
        "        super(Bike, self).__init__(fuel, wheels)\n",
        "        # 자식 클래스의 독자적인 변수 초기화\n",
        "        self.size = size\n",
        "\n",
        "bike = Bike(\"gas\", 2, \"small\")\n",
        "print(bike.fuel, bike.wheels, bike.size)"
      ],
      "metadata": {
        "colab": {
          "base_uri": "https://localhost:8080/"
        },
        "id": "XtnF8q4HrG3U",
        "outputId": "43dc487a-eb69-4e23-e13d-e4f01a15ef9c"
      },
      "execution_count": null,
      "outputs": [
        {
          "output_type": "stream",
          "name": "stdout",
          "text": [
            "gas 2 small\n"
          ]
        }
      ]
    },
    {
      "cell_type": "markdown",
      "source": [
        "### 📌Q3. 이번 시험 결과에 대한 데이터를 학과 사무실에서 CSV 파일로 전달해줬습니다. 우리는 이 파일을 이용해서 데이터 처리를 진행해야 합니다. 파일 입출력을 이용해 파일 데이터를 리스트로 만들어 보세요.\n",
        "- 파일 입출력에 사용하는 open함수를 이용해 CSV 파일 내부의 데이터를 읽어보세요.\n",
        "- **CSV 파일은 아래 첨부되어 있습니다.  \n",
        "\n",
        "```python\n",
        "# 파일의 경로를 file_path로 설정\n",
        "# ex) file_path = \"./data-01-test-score.csv\"\n",
        "\n",
        "def read_file(file_path):\n",
        "    # TODO\n",
        "```\n",
        "```bash\n",
        "# 출력 예시\n",
        ">>> print(read_file())\n",
        "[['73', '80', '75', '152'],\n",
        " ['93', '88', '93', '185'],\n",
        " ['89', '91', '90', '180'],\n",
        " ['96', '98', '100', '196'],\n",
        " ['73', '66', '70', '142'],\n",
        " ['53', '46', '55', '101'],\n",
        " ['69', '74', '77', '149'],\n",
        " ['47', '56', '60', '115'],\n",
        " ['87', '79', '90', '175'],\n",
        " ['79', '70', '88', '164'],\n",
        " ['69', '70', '73', '141'],\n",
        " ['70', '65', '74', '141'],\n",
        " ['93', '95', '91', '184'],\n",
        " ['79', '80', '73', '152'],\n",
        " ['70', '73', '78', '148'],\n",
        " ['93', '89', '96', '192'],\n",
        " ['78', '75', '68', '147'],\n",
        " ['81', '90', '93', '183'],\n",
        " ['88', '92', '86', '177'],\n",
        " ['78', '83', '77', '159'],\n",
        " ['82', '86', '90', '177'],\n",
        " ['86', '82', '89', '175'],\n",
        " ['78', '83', '85', '175'],\n",
        " ['76', '83', '71', '149'],\n",
        " ['96', '93', '95', '192']]\n",
        "```"
      ],
      "metadata": {
        "id": "98-ijKuwrjFM"
      }
    },
    {
      "cell_type": "code",
      "source": [
        "cd /content/drive/MyDrive/Colab Notebooks/[BoostCourse] 23_AI_Basic/2주차"
      ],
      "metadata": {
        "colab": {
          "base_uri": "https://localhost:8080/"
        },
        "id": "vuADupKf8b5C",
        "outputId": "3c32f173-a365-4cfd-f9ba-0ec2305e47cc"
      },
      "execution_count": null,
      "outputs": [
        {
          "output_type": "stream",
          "name": "stdout",
          "text": [
            "/content/drive/MyDrive/Colab Notebooks/[BoostCourse] 23_AI_Basic/2주차\n"
          ]
        }
      ]
    },
    {
      "cell_type": "code",
      "source": [
        "# csv 모듈 import\n",
        "import csv\n",
        "\n",
        "# 파일 경로 설정\n",
        "file_path = \"./data/data-01-test-score.csv\"\n",
        "\n",
        "def read_file(file_path):\n",
        "    # with 문을 사용하여 file handle open/close\n",
        "    with open(file_path,\"r\", encoding=\"ms932\") as f:\n",
        "        # csv.reader 매서드를 사용하여, \",\" 기준으로 csv 데이터 read\n",
        "        reader = csv.reader(f, delimiter=\",\")\n",
        "        # List comprehension 사용하여 반환\n",
        "        return [row for row in reader]\n",
        "\n",
        "# 데이터 리스트 출력 확인\n",
        "print(*read_file(file_path), sep=\"\\n\")"
      ],
      "metadata": {
        "colab": {
          "base_uri": "https://localhost:8080/"
        },
        "id": "TUr7tGiS6tsJ",
        "outputId": "336b115e-dd33-47e2-af67-a3f6adf0e66b"
      },
      "execution_count": null,
      "outputs": [
        {
          "output_type": "stream",
          "name": "stdout",
          "text": [
            "['73', '80', '75', '152']\n",
            "['93', '88', '93', '185']\n",
            "['89', '91', '90', '180']\n",
            "['96', '98', '100', '196']\n",
            "['73', '66', '70', '142']\n",
            "['53', '46', '55', '101']\n",
            "['69', '74', '77', '149']\n",
            "['47', '56', '60', '115']\n",
            "['87', '79', '90', '175']\n",
            "['79', '70', '88', '164']\n",
            "['69', '70', '73', '141']\n",
            "['70', '65', '74', '141']\n",
            "['93', '95', '91', '184']\n",
            "['79', '80', '73', '152']\n",
            "['70', '73', '78', '148']\n",
            "['93', '89', '96', '192']\n",
            "['78', '75', '68', '147']\n",
            "['81', '90', '93', '183']\n",
            "['88', '92', '86', '177']\n",
            "['78', '83', '77', '159']\n",
            "['82', '86', '90', '177']\n",
            "['86', '82', '89', '175']\n",
            "['78', '83', '85', '175']\n",
            "['76', '83', '71', '149']\n",
            "['96', '93', '95', '192']\n"
          ]
        }
      ]
    },
    {
      "cell_type": "markdown",
      "source": [
        "### 📌Q4. 우리는 방금 CSV 파일을 읽는 함수를 구현해보았습니다. 하지만 이를 조금 더 효율적으로 사용하기 위해서 클래스로 구성을 진행하려고 합니다. 방금 구현한 함수를 포함한 클래스를 구현해보세요.\n",
        "- merge list를 이용해 리스트 내 데이터의 합을 출력해보세요.\n",
        "- 데이터를 합치기 전 데이터의 자료형을 변경해보세요.\n",
        "\n",
        "```python\n",
        "# 파일의 경로를 file_path로 설정\n",
        "# ex) file_path = './data-01-test-score.csv'\n",
        "\n",
        "class ReadCSV():\n",
        "    def __init__(self, file_path):\n",
        "        # TODO\n",
        "\n",
        "    def read_file(self, #):\n",
        "        # TODO\n",
        "\n",
        "    def merge_list(self, #):\n",
        "        # TODO\n",
        "```\n",
        "```bash\n",
        "# 출력 예시\n",
        ">>> read_csv=ReadCSV(file_path)\n",
        ">>> print(read_csv.read_file())\n",
        ">>> print(read_csv.merge_list())\n",
        "\n",
        "[[73, 80, 75, 152],\n",
        " [93, 88, 93, 185],\n",
        " [89, 91, 90, 180],\n",
        " [96, 98, 100, 196],\n",
        " [73, 66, 70, 142],\n",
        " [53, 46, 55, 101],\n",
        " [69, 74, 77, 149],\n",
        " [47, 56, 60, 115],\n",
        " [87, 79, 90, 175],\n",
        " [79, 70, 88, 164],\n",
        " [69, 70, 73, 141],\n",
        " [70, 65, 74, 141],\n",
        " [93, 95, 91, 184],\n",
        " [79, 80, 73, 152],\n",
        " [70, 73, 78, 148],\n",
        " [93, 89, 96, 192],\n",
        " [78, 75, 68, 147],\n",
        " [81, 90, 93, 183],\n",
        " [88, 92, 86, 177],\n",
        " [78, 83, 77, 159],\n",
        " [82, 86, 90, 177],\n",
        " [86, 82, 89, 175],\n",
        " [78, 83, 85, 175],\n",
        " [76, 83, 71, 149],\n",
        " [96, 93, 95, 192]]\n",
        "\n",
        "[380, 459, 450, 490, 351, 255, 369, 278, 431, 401, 353, 350, 463, 384, 369, 470, 368, 447, 443, 397, 435, 432, 421, 379, 476]\n",
        "```"
      ],
      "metadata": {
        "id": "bjV5OSSc7QkL"
      }
    },
    {
      "cell_type": "code",
      "source": [
        "import csv\n",
        "import numpy as np\n",
        "\n",
        "file_path = \"./data/data-01-test-score.csv\"\n",
        "\n",
        "class ReadCSV():\n",
        "    def __init__(self, file_path):\n",
        "        self.file_path = file_path\n",
        "        # original list를 담을 list형 변수\n",
        "        self.original_list = []\n",
        "        # merged list를 담을 list형 변수\n",
        "        self.merged_list = []\n",
        "\n",
        "    def read_file(self):\n",
        "        # with 문을 사용하여 file handle open/close\n",
        "        with open(self.file_path, \"r\", encoding='ms932') as f:\n",
        "            # csv.reader 매서드를 사용하여, \",\" 기준으로 csv 데이터 read\n",
        "            reader = csv.reader(f, delimiter=\",\")\n",
        "            # List comprehension 사용하여 list로 할당\n",
        "            self.original_list = [row for row in reader]\n",
        "            # list 반환\n",
        "            return self.original_list\n",
        "\n",
        "    def merge_list(self):\n",
        "        # numpy int로 자료형 변환\n",
        "        merged_np_array = np.array(self.original_list, dtype=int)\n",
        "        # axis=1 (row 방향)으로 sum 연산\n",
        "        merged_np_array = merged_np_array.sum(axis=1)\n",
        "        # merged list에 담기 위해 list로 형변환\n",
        "        self.merged_list = list(merged_np_array)\n",
        "        # list 반환\n",
        "        return self.merged_list\n",
        "\n",
        "read_csv=ReadCSV(file_path)\n",
        "print(*read_csv.read_file(), sep='\\n')\n",
        "print('\\n',read_csv.merge_list())"
      ],
      "metadata": {
        "colab": {
          "base_uri": "https://localhost:8080/"
        },
        "id": "OAohG9NW-7k7",
        "outputId": "a755f9ee-e340-4906-83e5-c9741604a45f"
      },
      "execution_count": null,
      "outputs": [
        {
          "output_type": "stream",
          "name": "stdout",
          "text": [
            "['73', '80', '75', '152']\n",
            "['93', '88', '93', '185']\n",
            "['89', '91', '90', '180']\n",
            "['96', '98', '100', '196']\n",
            "['73', '66', '70', '142']\n",
            "['53', '46', '55', '101']\n",
            "['69', '74', '77', '149']\n",
            "['47', '56', '60', '115']\n",
            "['87', '79', '90', '175']\n",
            "['79', '70', '88', '164']\n",
            "['69', '70', '73', '141']\n",
            "['70', '65', '74', '141']\n",
            "['93', '95', '91', '184']\n",
            "['79', '80', '73', '152']\n",
            "['70', '73', '78', '148']\n",
            "['93', '89', '96', '192']\n",
            "['78', '75', '68', '147']\n",
            "['81', '90', '93', '183']\n",
            "['88', '92', '86', '177']\n",
            "['78', '83', '77', '159']\n",
            "['82', '86', '90', '177']\n",
            "['86', '82', '89', '175']\n",
            "['78', '83', '85', '175']\n",
            "['76', '83', '71', '149']\n",
            "['96', '93', '95', '192']\n",
            "\n",
            " [380, 459, 450, 490, 351, 255, 369, 278, 431, 401, 353, 350, 463, 384, 369, 470, 368, 447, 443, 397, 435, 432, 421, 379, 476]\n"
          ]
        }
      ]
    },
    {
      "cell_type": "markdown",
      "source": [
        "### 📌Q5. 이전에 구현한 클래스에서 merge_list의 함수 동작을 변경해야합니다. 단순합계가 아닌 평균을 구하는 함수로 변경해보세요.\n",
        "- 리스트의 데이터를 다루는 함수를 이용해서 구현해보세요.\n",
        "- 최종 평균을 구한 후 오름차순으로 정렬해주세요.\n",
        "\n",
        "```python\n",
        "class ReadCSV():\n",
        "    def __init__(self, file_path):\n",
        "        # TODO\n",
        "    \n",
        "    def read_file(self, #):\n",
        "        # TODO\n",
        "    def merge_list(self, #):\n",
        "        # TODO\n",
        "```\n",
        "```bash\n",
        "# 출력 예시\n",
        ">>> read_csv=ReadCSV(file_path)\n",
        ">>> print(read_csv.merge_list())\n",
        "[63.75, 69.5, 87.5, 87.75, 88.25, 92.0, 92.25, \n",
        "92.25, 94.75, 95.0, 96.0, 99.25, 100.25, 105.25, \n",
        "107.75, 108.0, 108.75, 110.75, 111.75, 112.5, \n",
        "114.75, 115.75, 117.5, 119.0, 122.5]\n",
        "```\n"
      ],
      "metadata": {
        "id": "7w7dp0jqCjr9"
      }
    },
    {
      "cell_type": "code",
      "source": [
        "import csv\n",
        "import numpy as np\n",
        "\n",
        "file_path = \"./data/data-01-test-score.csv\"\n",
        "\n",
        "class ReadCSV():\n",
        "    def __init__(self, file_path):\n",
        "        self.file_path = file_path\n",
        "        # original list를 담을 list형 변수\n",
        "        self.original_list = []\n",
        "        # merged list를 담을 list형 변수\n",
        "        self.merged_list = []\n",
        "\n",
        "    def read_file(self):\n",
        "        # with 문을 사용하여 file handle open/close\n",
        "        with open(self.file_path, \"r\", encoding='ms932') as f:\n",
        "            # csv.reader 매서드를 사용하여, \",\" 기준으로 csv 데이터 read\n",
        "            reader = csv.reader(f, delimiter=\",\")\n",
        "            # List comprehension 사용하여 list로 할당\n",
        "            self.original_list = [row for row in reader]\n",
        "            # list 반환\n",
        "            return self.original_list\n",
        "\n",
        "    def merge_list(self):\n",
        "        # numpy int로 자료형 변환\n",
        "        merged_np_array = np.array(self.original_list, dtype=int)\n",
        "        # axis=1 (row 방향)으로 mean 연산\n",
        "        merged_np_array = merged_np_array.mean(axis=1)\n",
        "        # merged list에 담기 위해 list로 형변환 후, 오름차순으로 정렬\n",
        "        self.merged_list = sorted(list(merged_np_array))\n",
        "        # list 반환\n",
        "        return self.merged_list\n",
        "\n",
        "read_csv=ReadCSV(file_path)\n",
        "read_csv.read_file()\n",
        "print(read_csv.merge_list())"
      ],
      "metadata": {
        "colab": {
          "base_uri": "https://localhost:8080/"
        },
        "id": "P6afYb4dJDLc",
        "outputId": "d26ccdb0-aa6d-4c09-98d2-983cb3e51e93"
      },
      "execution_count": null,
      "outputs": [
        {
          "output_type": "stream",
          "name": "stdout",
          "text": [
            "[63.75, 69.5, 87.5, 87.75, 88.25, 92.0, 92.25, 92.25, 94.75, 95.0, 96.0, 99.25, 100.25, 105.25, 107.75, 108.0, 108.75, 110.75, 111.75, 112.5, 114.75, 115.75, 117.5, 119.0, 122.5]\n"
          ]
        }
      ]
    },
    {
      "cell_type": "code",
      "source": [],
      "metadata": {
        "id": "ZqQFLJr4LiPt"
      },
      "execution_count": null,
      "outputs": []
    }
  ]
}