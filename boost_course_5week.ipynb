{
  "nbformat": 4,
  "nbformat_minor": 0,
  "metadata": {
    "colab": {
      "provenance": []
    },
    "kernelspec": {
      "name": "python3",
      "display_name": "Python 3"
    },
    "language_info": {
      "name": "python"
    },
    "widgets": {
      "application/vnd.jupyter.widget-state+json": {
        "ef8f030035384d7d943f8369f327fe0e": {
          "model_module": "@jupyter-widgets/controls",
          "model_name": "HBoxModel",
          "model_module_version": "1.5.0",
          "state": {
            "_dom_classes": [],
            "_model_module": "@jupyter-widgets/controls",
            "_model_module_version": "1.5.0",
            "_model_name": "HBoxModel",
            "_view_count": null,
            "_view_module": "@jupyter-widgets/controls",
            "_view_module_version": "1.5.0",
            "_view_name": "HBoxView",
            "box_style": "",
            "children": [
              "IPY_MODEL_2c580a0d530d4d97848412774597fc2d",
              "IPY_MODEL_c7b57849266945ff84c786ee71be10f4",
              "IPY_MODEL_4eaa4b2ee6134b58bb9ccb4f8a7e796d"
            ],
            "layout": "IPY_MODEL_2d067c3198184d36a3a54a44756c78fb"
          }
        },
        "2c580a0d530d4d97848412774597fc2d": {
          "model_module": "@jupyter-widgets/controls",
          "model_name": "HTMLModel",
          "model_module_version": "1.5.0",
          "state": {
            "_dom_classes": [],
            "_model_module": "@jupyter-widgets/controls",
            "_model_module_version": "1.5.0",
            "_model_name": "HTMLModel",
            "_view_count": null,
            "_view_module": "@jupyter-widgets/controls",
            "_view_module_version": "1.5.0",
            "_view_name": "HTMLView",
            "description": "",
            "description_tooltip": null,
            "layout": "IPY_MODEL_12c9050d440c400bab0ef024e534ac43",
            "placeholder": "​",
            "style": "IPY_MODEL_7ce4ff6598ed436481926137a45cd6cd",
            "value": "100%"
          }
        },
        "c7b57849266945ff84c786ee71be10f4": {
          "model_module": "@jupyter-widgets/controls",
          "model_name": "FloatProgressModel",
          "model_module_version": "1.5.0",
          "state": {
            "_dom_classes": [],
            "_model_module": "@jupyter-widgets/controls",
            "_model_module_version": "1.5.0",
            "_model_name": "FloatProgressModel",
            "_view_count": null,
            "_view_module": "@jupyter-widgets/controls",
            "_view_module_version": "1.5.0",
            "_view_name": "ProgressView",
            "bar_style": "success",
            "description": "",
            "description_tooltip": null,
            "layout": "IPY_MODEL_fcb5e09f393c47a3ab65a93e17adde40",
            "max": 9912422,
            "min": 0,
            "orientation": "horizontal",
            "style": "IPY_MODEL_e607e9a29d1545508297e76989d24fa1",
            "value": 9912422
          }
        },
        "4eaa4b2ee6134b58bb9ccb4f8a7e796d": {
          "model_module": "@jupyter-widgets/controls",
          "model_name": "HTMLModel",
          "model_module_version": "1.5.0",
          "state": {
            "_dom_classes": [],
            "_model_module": "@jupyter-widgets/controls",
            "_model_module_version": "1.5.0",
            "_model_name": "HTMLModel",
            "_view_count": null,
            "_view_module": "@jupyter-widgets/controls",
            "_view_module_version": "1.5.0",
            "_view_name": "HTMLView",
            "description": "",
            "description_tooltip": null,
            "layout": "IPY_MODEL_4d267005090f4910b60513cfe5c562eb",
            "placeholder": "​",
            "style": "IPY_MODEL_be928c686f484035a60d9c8f2e61aa0b",
            "value": " 9912422/9912422 [00:00&lt;00:00, 87460199.29it/s]"
          }
        },
        "2d067c3198184d36a3a54a44756c78fb": {
          "model_module": "@jupyter-widgets/base",
          "model_name": "LayoutModel",
          "model_module_version": "1.2.0",
          "state": {
            "_model_module": "@jupyter-widgets/base",
            "_model_module_version": "1.2.0",
            "_model_name": "LayoutModel",
            "_view_count": null,
            "_view_module": "@jupyter-widgets/base",
            "_view_module_version": "1.2.0",
            "_view_name": "LayoutView",
            "align_content": null,
            "align_items": null,
            "align_self": null,
            "border": null,
            "bottom": null,
            "display": null,
            "flex": null,
            "flex_flow": null,
            "grid_area": null,
            "grid_auto_columns": null,
            "grid_auto_flow": null,
            "grid_auto_rows": null,
            "grid_column": null,
            "grid_gap": null,
            "grid_row": null,
            "grid_template_areas": null,
            "grid_template_columns": null,
            "grid_template_rows": null,
            "height": null,
            "justify_content": null,
            "justify_items": null,
            "left": null,
            "margin": null,
            "max_height": null,
            "max_width": null,
            "min_height": null,
            "min_width": null,
            "object_fit": null,
            "object_position": null,
            "order": null,
            "overflow": null,
            "overflow_x": null,
            "overflow_y": null,
            "padding": null,
            "right": null,
            "top": null,
            "visibility": null,
            "width": null
          }
        },
        "12c9050d440c400bab0ef024e534ac43": {
          "model_module": "@jupyter-widgets/base",
          "model_name": "LayoutModel",
          "model_module_version": "1.2.0",
          "state": {
            "_model_module": "@jupyter-widgets/base",
            "_model_module_version": "1.2.0",
            "_model_name": "LayoutModel",
            "_view_count": null,
            "_view_module": "@jupyter-widgets/base",
            "_view_module_version": "1.2.0",
            "_view_name": "LayoutView",
            "align_content": null,
            "align_items": null,
            "align_self": null,
            "border": null,
            "bottom": null,
            "display": null,
            "flex": null,
            "flex_flow": null,
            "grid_area": null,
            "grid_auto_columns": null,
            "grid_auto_flow": null,
            "grid_auto_rows": null,
            "grid_column": null,
            "grid_gap": null,
            "grid_row": null,
            "grid_template_areas": null,
            "grid_template_columns": null,
            "grid_template_rows": null,
            "height": null,
            "justify_content": null,
            "justify_items": null,
            "left": null,
            "margin": null,
            "max_height": null,
            "max_width": null,
            "min_height": null,
            "min_width": null,
            "object_fit": null,
            "object_position": null,
            "order": null,
            "overflow": null,
            "overflow_x": null,
            "overflow_y": null,
            "padding": null,
            "right": null,
            "top": null,
            "visibility": null,
            "width": null
          }
        },
        "7ce4ff6598ed436481926137a45cd6cd": {
          "model_module": "@jupyter-widgets/controls",
          "model_name": "DescriptionStyleModel",
          "model_module_version": "1.5.0",
          "state": {
            "_model_module": "@jupyter-widgets/controls",
            "_model_module_version": "1.5.0",
            "_model_name": "DescriptionStyleModel",
            "_view_count": null,
            "_view_module": "@jupyter-widgets/base",
            "_view_module_version": "1.2.0",
            "_view_name": "StyleView",
            "description_width": ""
          }
        },
        "fcb5e09f393c47a3ab65a93e17adde40": {
          "model_module": "@jupyter-widgets/base",
          "model_name": "LayoutModel",
          "model_module_version": "1.2.0",
          "state": {
            "_model_module": "@jupyter-widgets/base",
            "_model_module_version": "1.2.0",
            "_model_name": "LayoutModel",
            "_view_count": null,
            "_view_module": "@jupyter-widgets/base",
            "_view_module_version": "1.2.0",
            "_view_name": "LayoutView",
            "align_content": null,
            "align_items": null,
            "align_self": null,
            "border": null,
            "bottom": null,
            "display": null,
            "flex": null,
            "flex_flow": null,
            "grid_area": null,
            "grid_auto_columns": null,
            "grid_auto_flow": null,
            "grid_auto_rows": null,
            "grid_column": null,
            "grid_gap": null,
            "grid_row": null,
            "grid_template_areas": null,
            "grid_template_columns": null,
            "grid_template_rows": null,
            "height": null,
            "justify_content": null,
            "justify_items": null,
            "left": null,
            "margin": null,
            "max_height": null,
            "max_width": null,
            "min_height": null,
            "min_width": null,
            "object_fit": null,
            "object_position": null,
            "order": null,
            "overflow": null,
            "overflow_x": null,
            "overflow_y": null,
            "padding": null,
            "right": null,
            "top": null,
            "visibility": null,
            "width": null
          }
        },
        "e607e9a29d1545508297e76989d24fa1": {
          "model_module": "@jupyter-widgets/controls",
          "model_name": "ProgressStyleModel",
          "model_module_version": "1.5.0",
          "state": {
            "_model_module": "@jupyter-widgets/controls",
            "_model_module_version": "1.5.0",
            "_model_name": "ProgressStyleModel",
            "_view_count": null,
            "_view_module": "@jupyter-widgets/base",
            "_view_module_version": "1.2.0",
            "_view_name": "StyleView",
            "bar_color": null,
            "description_width": ""
          }
        },
        "4d267005090f4910b60513cfe5c562eb": {
          "model_module": "@jupyter-widgets/base",
          "model_name": "LayoutModel",
          "model_module_version": "1.2.0",
          "state": {
            "_model_module": "@jupyter-widgets/base",
            "_model_module_version": "1.2.0",
            "_model_name": "LayoutModel",
            "_view_count": null,
            "_view_module": "@jupyter-widgets/base",
            "_view_module_version": "1.2.0",
            "_view_name": "LayoutView",
            "align_content": null,
            "align_items": null,
            "align_self": null,
            "border": null,
            "bottom": null,
            "display": null,
            "flex": null,
            "flex_flow": null,
            "grid_area": null,
            "grid_auto_columns": null,
            "grid_auto_flow": null,
            "grid_auto_rows": null,
            "grid_column": null,
            "grid_gap": null,
            "grid_row": null,
            "grid_template_areas": null,
            "grid_template_columns": null,
            "grid_template_rows": null,
            "height": null,
            "justify_content": null,
            "justify_items": null,
            "left": null,
            "margin": null,
            "max_height": null,
            "max_width": null,
            "min_height": null,
            "min_width": null,
            "object_fit": null,
            "object_position": null,
            "order": null,
            "overflow": null,
            "overflow_x": null,
            "overflow_y": null,
            "padding": null,
            "right": null,
            "top": null,
            "visibility": null,
            "width": null
          }
        },
        "be928c686f484035a60d9c8f2e61aa0b": {
          "model_module": "@jupyter-widgets/controls",
          "model_name": "DescriptionStyleModel",
          "model_module_version": "1.5.0",
          "state": {
            "_model_module": "@jupyter-widgets/controls",
            "_model_module_version": "1.5.0",
            "_model_name": "DescriptionStyleModel",
            "_view_count": null,
            "_view_module": "@jupyter-widgets/base",
            "_view_module_version": "1.2.0",
            "_view_name": "StyleView",
            "description_width": ""
          }
        },
        "983927702edf492f8e0cbca36e508c4c": {
          "model_module": "@jupyter-widgets/controls",
          "model_name": "HBoxModel",
          "model_module_version": "1.5.0",
          "state": {
            "_dom_classes": [],
            "_model_module": "@jupyter-widgets/controls",
            "_model_module_version": "1.5.0",
            "_model_name": "HBoxModel",
            "_view_count": null,
            "_view_module": "@jupyter-widgets/controls",
            "_view_module_version": "1.5.0",
            "_view_name": "HBoxView",
            "box_style": "",
            "children": [
              "IPY_MODEL_63891318a21e48a6a8d42b746d288a09",
              "IPY_MODEL_35c986fc54d34ae0b00761af9205e094",
              "IPY_MODEL_04ff2748bbcf4f0993b35db55542dd6e"
            ],
            "layout": "IPY_MODEL_680a6a3080c9478bacbec170611c20cf"
          }
        },
        "63891318a21e48a6a8d42b746d288a09": {
          "model_module": "@jupyter-widgets/controls",
          "model_name": "HTMLModel",
          "model_module_version": "1.5.0",
          "state": {
            "_dom_classes": [],
            "_model_module": "@jupyter-widgets/controls",
            "_model_module_version": "1.5.0",
            "_model_name": "HTMLModel",
            "_view_count": null,
            "_view_module": "@jupyter-widgets/controls",
            "_view_module_version": "1.5.0",
            "_view_name": "HTMLView",
            "description": "",
            "description_tooltip": null,
            "layout": "IPY_MODEL_63d974797e854eb480cc9d95d4c992f0",
            "placeholder": "​",
            "style": "IPY_MODEL_b606a4f412b64e5084a692c6ac99e9ac",
            "value": "100%"
          }
        },
        "35c986fc54d34ae0b00761af9205e094": {
          "model_module": "@jupyter-widgets/controls",
          "model_name": "FloatProgressModel",
          "model_module_version": "1.5.0",
          "state": {
            "_dom_classes": [],
            "_model_module": "@jupyter-widgets/controls",
            "_model_module_version": "1.5.0",
            "_model_name": "FloatProgressModel",
            "_view_count": null,
            "_view_module": "@jupyter-widgets/controls",
            "_view_module_version": "1.5.0",
            "_view_name": "ProgressView",
            "bar_style": "success",
            "description": "",
            "description_tooltip": null,
            "layout": "IPY_MODEL_3153b9d3cab0451bba24b1857c37313d",
            "max": 28881,
            "min": 0,
            "orientation": "horizontal",
            "style": "IPY_MODEL_174d5db165c14f749ee335a1e37df452",
            "value": 28881
          }
        },
        "04ff2748bbcf4f0993b35db55542dd6e": {
          "model_module": "@jupyter-widgets/controls",
          "model_name": "HTMLModel",
          "model_module_version": "1.5.0",
          "state": {
            "_dom_classes": [],
            "_model_module": "@jupyter-widgets/controls",
            "_model_module_version": "1.5.0",
            "_model_name": "HTMLModel",
            "_view_count": null,
            "_view_module": "@jupyter-widgets/controls",
            "_view_module_version": "1.5.0",
            "_view_name": "HTMLView",
            "description": "",
            "description_tooltip": null,
            "layout": "IPY_MODEL_02c76560f1b446d0929541ecb752fc7c",
            "placeholder": "​",
            "style": "IPY_MODEL_5881a27951f74658bc8fc9b358390bdf",
            "value": " 28881/28881 [00:00&lt;00:00, 1040282.48it/s]"
          }
        },
        "680a6a3080c9478bacbec170611c20cf": {
          "model_module": "@jupyter-widgets/base",
          "model_name": "LayoutModel",
          "model_module_version": "1.2.0",
          "state": {
            "_model_module": "@jupyter-widgets/base",
            "_model_module_version": "1.2.0",
            "_model_name": "LayoutModel",
            "_view_count": null,
            "_view_module": "@jupyter-widgets/base",
            "_view_module_version": "1.2.0",
            "_view_name": "LayoutView",
            "align_content": null,
            "align_items": null,
            "align_self": null,
            "border": null,
            "bottom": null,
            "display": null,
            "flex": null,
            "flex_flow": null,
            "grid_area": null,
            "grid_auto_columns": null,
            "grid_auto_flow": null,
            "grid_auto_rows": null,
            "grid_column": null,
            "grid_gap": null,
            "grid_row": null,
            "grid_template_areas": null,
            "grid_template_columns": null,
            "grid_template_rows": null,
            "height": null,
            "justify_content": null,
            "justify_items": null,
            "left": null,
            "margin": null,
            "max_height": null,
            "max_width": null,
            "min_height": null,
            "min_width": null,
            "object_fit": null,
            "object_position": null,
            "order": null,
            "overflow": null,
            "overflow_x": null,
            "overflow_y": null,
            "padding": null,
            "right": null,
            "top": null,
            "visibility": null,
            "width": null
          }
        },
        "63d974797e854eb480cc9d95d4c992f0": {
          "model_module": "@jupyter-widgets/base",
          "model_name": "LayoutModel",
          "model_module_version": "1.2.0",
          "state": {
            "_model_module": "@jupyter-widgets/base",
            "_model_module_version": "1.2.0",
            "_model_name": "LayoutModel",
            "_view_count": null,
            "_view_module": "@jupyter-widgets/base",
            "_view_module_version": "1.2.0",
            "_view_name": "LayoutView",
            "align_content": null,
            "align_items": null,
            "align_self": null,
            "border": null,
            "bottom": null,
            "display": null,
            "flex": null,
            "flex_flow": null,
            "grid_area": null,
            "grid_auto_columns": null,
            "grid_auto_flow": null,
            "grid_auto_rows": null,
            "grid_column": null,
            "grid_gap": null,
            "grid_row": null,
            "grid_template_areas": null,
            "grid_template_columns": null,
            "grid_template_rows": null,
            "height": null,
            "justify_content": null,
            "justify_items": null,
            "left": null,
            "margin": null,
            "max_height": null,
            "max_width": null,
            "min_height": null,
            "min_width": null,
            "object_fit": null,
            "object_position": null,
            "order": null,
            "overflow": null,
            "overflow_x": null,
            "overflow_y": null,
            "padding": null,
            "right": null,
            "top": null,
            "visibility": null,
            "width": null
          }
        },
        "b606a4f412b64e5084a692c6ac99e9ac": {
          "model_module": "@jupyter-widgets/controls",
          "model_name": "DescriptionStyleModel",
          "model_module_version": "1.5.0",
          "state": {
            "_model_module": "@jupyter-widgets/controls",
            "_model_module_version": "1.5.0",
            "_model_name": "DescriptionStyleModel",
            "_view_count": null,
            "_view_module": "@jupyter-widgets/base",
            "_view_module_version": "1.2.0",
            "_view_name": "StyleView",
            "description_width": ""
          }
        },
        "3153b9d3cab0451bba24b1857c37313d": {
          "model_module": "@jupyter-widgets/base",
          "model_name": "LayoutModel",
          "model_module_version": "1.2.0",
          "state": {
            "_model_module": "@jupyter-widgets/base",
            "_model_module_version": "1.2.0",
            "_model_name": "LayoutModel",
            "_view_count": null,
            "_view_module": "@jupyter-widgets/base",
            "_view_module_version": "1.2.0",
            "_view_name": "LayoutView",
            "align_content": null,
            "align_items": null,
            "align_self": null,
            "border": null,
            "bottom": null,
            "display": null,
            "flex": null,
            "flex_flow": null,
            "grid_area": null,
            "grid_auto_columns": null,
            "grid_auto_flow": null,
            "grid_auto_rows": null,
            "grid_column": null,
            "grid_gap": null,
            "grid_row": null,
            "grid_template_areas": null,
            "grid_template_columns": null,
            "grid_template_rows": null,
            "height": null,
            "justify_content": null,
            "justify_items": null,
            "left": null,
            "margin": null,
            "max_height": null,
            "max_width": null,
            "min_height": null,
            "min_width": null,
            "object_fit": null,
            "object_position": null,
            "order": null,
            "overflow": null,
            "overflow_x": null,
            "overflow_y": null,
            "padding": null,
            "right": null,
            "top": null,
            "visibility": null,
            "width": null
          }
        },
        "174d5db165c14f749ee335a1e37df452": {
          "model_module": "@jupyter-widgets/controls",
          "model_name": "ProgressStyleModel",
          "model_module_version": "1.5.0",
          "state": {
            "_model_module": "@jupyter-widgets/controls",
            "_model_module_version": "1.5.0",
            "_model_name": "ProgressStyleModel",
            "_view_count": null,
            "_view_module": "@jupyter-widgets/base",
            "_view_module_version": "1.2.0",
            "_view_name": "StyleView",
            "bar_color": null,
            "description_width": ""
          }
        },
        "02c76560f1b446d0929541ecb752fc7c": {
          "model_module": "@jupyter-widgets/base",
          "model_name": "LayoutModel",
          "model_module_version": "1.2.0",
          "state": {
            "_model_module": "@jupyter-widgets/base",
            "_model_module_version": "1.2.0",
            "_model_name": "LayoutModel",
            "_view_count": null,
            "_view_module": "@jupyter-widgets/base",
            "_view_module_version": "1.2.0",
            "_view_name": "LayoutView",
            "align_content": null,
            "align_items": null,
            "align_self": null,
            "border": null,
            "bottom": null,
            "display": null,
            "flex": null,
            "flex_flow": null,
            "grid_area": null,
            "grid_auto_columns": null,
            "grid_auto_flow": null,
            "grid_auto_rows": null,
            "grid_column": null,
            "grid_gap": null,
            "grid_row": null,
            "grid_template_areas": null,
            "grid_template_columns": null,
            "grid_template_rows": null,
            "height": null,
            "justify_content": null,
            "justify_items": null,
            "left": null,
            "margin": null,
            "max_height": null,
            "max_width": null,
            "min_height": null,
            "min_width": null,
            "object_fit": null,
            "object_position": null,
            "order": null,
            "overflow": null,
            "overflow_x": null,
            "overflow_y": null,
            "padding": null,
            "right": null,
            "top": null,
            "visibility": null,
            "width": null
          }
        },
        "5881a27951f74658bc8fc9b358390bdf": {
          "model_module": "@jupyter-widgets/controls",
          "model_name": "DescriptionStyleModel",
          "model_module_version": "1.5.0",
          "state": {
            "_model_module": "@jupyter-widgets/controls",
            "_model_module_version": "1.5.0",
            "_model_name": "DescriptionStyleModel",
            "_view_count": null,
            "_view_module": "@jupyter-widgets/base",
            "_view_module_version": "1.2.0",
            "_view_name": "StyleView",
            "description_width": ""
          }
        },
        "7fc7af5a8c5c470f960e6f2ec0ea00ec": {
          "model_module": "@jupyter-widgets/controls",
          "model_name": "HBoxModel",
          "model_module_version": "1.5.0",
          "state": {
            "_dom_classes": [],
            "_model_module": "@jupyter-widgets/controls",
            "_model_module_version": "1.5.0",
            "_model_name": "HBoxModel",
            "_view_count": null,
            "_view_module": "@jupyter-widgets/controls",
            "_view_module_version": "1.5.0",
            "_view_name": "HBoxView",
            "box_style": "",
            "children": [
              "IPY_MODEL_79a0be090e814a388590e3faf248e1e4",
              "IPY_MODEL_0a4c6127e89e4883b114fb15f1c1d3f2",
              "IPY_MODEL_39d309446ba64656810429e9579023f2"
            ],
            "layout": "IPY_MODEL_7e93b15bc44b42579d8f3076fd3cd667"
          }
        },
        "79a0be090e814a388590e3faf248e1e4": {
          "model_module": "@jupyter-widgets/controls",
          "model_name": "HTMLModel",
          "model_module_version": "1.5.0",
          "state": {
            "_dom_classes": [],
            "_model_module": "@jupyter-widgets/controls",
            "_model_module_version": "1.5.0",
            "_model_name": "HTMLModel",
            "_view_count": null,
            "_view_module": "@jupyter-widgets/controls",
            "_view_module_version": "1.5.0",
            "_view_name": "HTMLView",
            "description": "",
            "description_tooltip": null,
            "layout": "IPY_MODEL_554075d0c8b6496ea842a6a6dd4cf780",
            "placeholder": "​",
            "style": "IPY_MODEL_bbce10ecd6e94a98a7cd704075691004",
            "value": "100%"
          }
        },
        "0a4c6127e89e4883b114fb15f1c1d3f2": {
          "model_module": "@jupyter-widgets/controls",
          "model_name": "FloatProgressModel",
          "model_module_version": "1.5.0",
          "state": {
            "_dom_classes": [],
            "_model_module": "@jupyter-widgets/controls",
            "_model_module_version": "1.5.0",
            "_model_name": "FloatProgressModel",
            "_view_count": null,
            "_view_module": "@jupyter-widgets/controls",
            "_view_module_version": "1.5.0",
            "_view_name": "ProgressView",
            "bar_style": "success",
            "description": "",
            "description_tooltip": null,
            "layout": "IPY_MODEL_f276855d7acc4063a8c0f1f2cd3f13e8",
            "max": 1648877,
            "min": 0,
            "orientation": "horizontal",
            "style": "IPY_MODEL_c3c5ef5bc203468380b5b0b83e755a2f",
            "value": 1648877
          }
        },
        "39d309446ba64656810429e9579023f2": {
          "model_module": "@jupyter-widgets/controls",
          "model_name": "HTMLModel",
          "model_module_version": "1.5.0",
          "state": {
            "_dom_classes": [],
            "_model_module": "@jupyter-widgets/controls",
            "_model_module_version": "1.5.0",
            "_model_name": "HTMLModel",
            "_view_count": null,
            "_view_module": "@jupyter-widgets/controls",
            "_view_module_version": "1.5.0",
            "_view_name": "HTMLView",
            "description": "",
            "description_tooltip": null,
            "layout": "IPY_MODEL_7961903ec0284083a3d2cdc74aaea4b5",
            "placeholder": "​",
            "style": "IPY_MODEL_30e57cd3a78747a8bf26002f881563f1",
            "value": " 1648877/1648877 [00:00&lt;00:00, 25510575.09it/s]"
          }
        },
        "7e93b15bc44b42579d8f3076fd3cd667": {
          "model_module": "@jupyter-widgets/base",
          "model_name": "LayoutModel",
          "model_module_version": "1.2.0",
          "state": {
            "_model_module": "@jupyter-widgets/base",
            "_model_module_version": "1.2.0",
            "_model_name": "LayoutModel",
            "_view_count": null,
            "_view_module": "@jupyter-widgets/base",
            "_view_module_version": "1.2.0",
            "_view_name": "LayoutView",
            "align_content": null,
            "align_items": null,
            "align_self": null,
            "border": null,
            "bottom": null,
            "display": null,
            "flex": null,
            "flex_flow": null,
            "grid_area": null,
            "grid_auto_columns": null,
            "grid_auto_flow": null,
            "grid_auto_rows": null,
            "grid_column": null,
            "grid_gap": null,
            "grid_row": null,
            "grid_template_areas": null,
            "grid_template_columns": null,
            "grid_template_rows": null,
            "height": null,
            "justify_content": null,
            "justify_items": null,
            "left": null,
            "margin": null,
            "max_height": null,
            "max_width": null,
            "min_height": null,
            "min_width": null,
            "object_fit": null,
            "object_position": null,
            "order": null,
            "overflow": null,
            "overflow_x": null,
            "overflow_y": null,
            "padding": null,
            "right": null,
            "top": null,
            "visibility": null,
            "width": null
          }
        },
        "554075d0c8b6496ea842a6a6dd4cf780": {
          "model_module": "@jupyter-widgets/base",
          "model_name": "LayoutModel",
          "model_module_version": "1.2.0",
          "state": {
            "_model_module": "@jupyter-widgets/base",
            "_model_module_version": "1.2.0",
            "_model_name": "LayoutModel",
            "_view_count": null,
            "_view_module": "@jupyter-widgets/base",
            "_view_module_version": "1.2.0",
            "_view_name": "LayoutView",
            "align_content": null,
            "align_items": null,
            "align_self": null,
            "border": null,
            "bottom": null,
            "display": null,
            "flex": null,
            "flex_flow": null,
            "grid_area": null,
            "grid_auto_columns": null,
            "grid_auto_flow": null,
            "grid_auto_rows": null,
            "grid_column": null,
            "grid_gap": null,
            "grid_row": null,
            "grid_template_areas": null,
            "grid_template_columns": null,
            "grid_template_rows": null,
            "height": null,
            "justify_content": null,
            "justify_items": null,
            "left": null,
            "margin": null,
            "max_height": null,
            "max_width": null,
            "min_height": null,
            "min_width": null,
            "object_fit": null,
            "object_position": null,
            "order": null,
            "overflow": null,
            "overflow_x": null,
            "overflow_y": null,
            "padding": null,
            "right": null,
            "top": null,
            "visibility": null,
            "width": null
          }
        },
        "bbce10ecd6e94a98a7cd704075691004": {
          "model_module": "@jupyter-widgets/controls",
          "model_name": "DescriptionStyleModel",
          "model_module_version": "1.5.0",
          "state": {
            "_model_module": "@jupyter-widgets/controls",
            "_model_module_version": "1.5.0",
            "_model_name": "DescriptionStyleModel",
            "_view_count": null,
            "_view_module": "@jupyter-widgets/base",
            "_view_module_version": "1.2.0",
            "_view_name": "StyleView",
            "description_width": ""
          }
        },
        "f276855d7acc4063a8c0f1f2cd3f13e8": {
          "model_module": "@jupyter-widgets/base",
          "model_name": "LayoutModel",
          "model_module_version": "1.2.0",
          "state": {
            "_model_module": "@jupyter-widgets/base",
            "_model_module_version": "1.2.0",
            "_model_name": "LayoutModel",
            "_view_count": null,
            "_view_module": "@jupyter-widgets/base",
            "_view_module_version": "1.2.0",
            "_view_name": "LayoutView",
            "align_content": null,
            "align_items": null,
            "align_self": null,
            "border": null,
            "bottom": null,
            "display": null,
            "flex": null,
            "flex_flow": null,
            "grid_area": null,
            "grid_auto_columns": null,
            "grid_auto_flow": null,
            "grid_auto_rows": null,
            "grid_column": null,
            "grid_gap": null,
            "grid_row": null,
            "grid_template_areas": null,
            "grid_template_columns": null,
            "grid_template_rows": null,
            "height": null,
            "justify_content": null,
            "justify_items": null,
            "left": null,
            "margin": null,
            "max_height": null,
            "max_width": null,
            "min_height": null,
            "min_width": null,
            "object_fit": null,
            "object_position": null,
            "order": null,
            "overflow": null,
            "overflow_x": null,
            "overflow_y": null,
            "padding": null,
            "right": null,
            "top": null,
            "visibility": null,
            "width": null
          }
        },
        "c3c5ef5bc203468380b5b0b83e755a2f": {
          "model_module": "@jupyter-widgets/controls",
          "model_name": "ProgressStyleModel",
          "model_module_version": "1.5.0",
          "state": {
            "_model_module": "@jupyter-widgets/controls",
            "_model_module_version": "1.5.0",
            "_model_name": "ProgressStyleModel",
            "_view_count": null,
            "_view_module": "@jupyter-widgets/base",
            "_view_module_version": "1.2.0",
            "_view_name": "StyleView",
            "bar_color": null,
            "description_width": ""
          }
        },
        "7961903ec0284083a3d2cdc74aaea4b5": {
          "model_module": "@jupyter-widgets/base",
          "model_name": "LayoutModel",
          "model_module_version": "1.2.0",
          "state": {
            "_model_module": "@jupyter-widgets/base",
            "_model_module_version": "1.2.0",
            "_model_name": "LayoutModel",
            "_view_count": null,
            "_view_module": "@jupyter-widgets/base",
            "_view_module_version": "1.2.0",
            "_view_name": "LayoutView",
            "align_content": null,
            "align_items": null,
            "align_self": null,
            "border": null,
            "bottom": null,
            "display": null,
            "flex": null,
            "flex_flow": null,
            "grid_area": null,
            "grid_auto_columns": null,
            "grid_auto_flow": null,
            "grid_auto_rows": null,
            "grid_column": null,
            "grid_gap": null,
            "grid_row": null,
            "grid_template_areas": null,
            "grid_template_columns": null,
            "grid_template_rows": null,
            "height": null,
            "justify_content": null,
            "justify_items": null,
            "left": null,
            "margin": null,
            "max_height": null,
            "max_width": null,
            "min_height": null,
            "min_width": null,
            "object_fit": null,
            "object_position": null,
            "order": null,
            "overflow": null,
            "overflow_x": null,
            "overflow_y": null,
            "padding": null,
            "right": null,
            "top": null,
            "visibility": null,
            "width": null
          }
        },
        "30e57cd3a78747a8bf26002f881563f1": {
          "model_module": "@jupyter-widgets/controls",
          "model_name": "DescriptionStyleModel",
          "model_module_version": "1.5.0",
          "state": {
            "_model_module": "@jupyter-widgets/controls",
            "_model_module_version": "1.5.0",
            "_model_name": "DescriptionStyleModel",
            "_view_count": null,
            "_view_module": "@jupyter-widgets/base",
            "_view_module_version": "1.2.0",
            "_view_name": "StyleView",
            "description_width": ""
          }
        },
        "c46a26b4bc0441019441baec3ff0b424": {
          "model_module": "@jupyter-widgets/controls",
          "model_name": "HBoxModel",
          "model_module_version": "1.5.0",
          "state": {
            "_dom_classes": [],
            "_model_module": "@jupyter-widgets/controls",
            "_model_module_version": "1.5.0",
            "_model_name": "HBoxModel",
            "_view_count": null,
            "_view_module": "@jupyter-widgets/controls",
            "_view_module_version": "1.5.0",
            "_view_name": "HBoxView",
            "box_style": "",
            "children": [
              "IPY_MODEL_d5bb2543c52746fcbb337e6b3f8e142b",
              "IPY_MODEL_f74bef9c05c24fc6887c2f795d04ef79",
              "IPY_MODEL_e007bb00bf0547debdbaa1f45f068ad2"
            ],
            "layout": "IPY_MODEL_158e5b84e3c34cd098986a218dd67501"
          }
        },
        "d5bb2543c52746fcbb337e6b3f8e142b": {
          "model_module": "@jupyter-widgets/controls",
          "model_name": "HTMLModel",
          "model_module_version": "1.5.0",
          "state": {
            "_dom_classes": [],
            "_model_module": "@jupyter-widgets/controls",
            "_model_module_version": "1.5.0",
            "_model_name": "HTMLModel",
            "_view_count": null,
            "_view_module": "@jupyter-widgets/controls",
            "_view_module_version": "1.5.0",
            "_view_name": "HTMLView",
            "description": "",
            "description_tooltip": null,
            "layout": "IPY_MODEL_7f9dcd8266c44fa1b4c65e2b4664b729",
            "placeholder": "​",
            "style": "IPY_MODEL_d4e0a838a3de4aaa861d5a0b2f73f7b7",
            "value": "100%"
          }
        },
        "f74bef9c05c24fc6887c2f795d04ef79": {
          "model_module": "@jupyter-widgets/controls",
          "model_name": "FloatProgressModel",
          "model_module_version": "1.5.0",
          "state": {
            "_dom_classes": [],
            "_model_module": "@jupyter-widgets/controls",
            "_model_module_version": "1.5.0",
            "_model_name": "FloatProgressModel",
            "_view_count": null,
            "_view_module": "@jupyter-widgets/controls",
            "_view_module_version": "1.5.0",
            "_view_name": "ProgressView",
            "bar_style": "success",
            "description": "",
            "description_tooltip": null,
            "layout": "IPY_MODEL_ae38e3eb119e4a2986d85da68a85c23a",
            "max": 4542,
            "min": 0,
            "orientation": "horizontal",
            "style": "IPY_MODEL_f6ba2c0698c14a33a626ab9bad41b5eb",
            "value": 4542
          }
        },
        "e007bb00bf0547debdbaa1f45f068ad2": {
          "model_module": "@jupyter-widgets/controls",
          "model_name": "HTMLModel",
          "model_module_version": "1.5.0",
          "state": {
            "_dom_classes": [],
            "_model_module": "@jupyter-widgets/controls",
            "_model_module_version": "1.5.0",
            "_model_name": "HTMLModel",
            "_view_count": null,
            "_view_module": "@jupyter-widgets/controls",
            "_view_module_version": "1.5.0",
            "_view_name": "HTMLView",
            "description": "",
            "description_tooltip": null,
            "layout": "IPY_MODEL_6d96532ad6a7466b9f3669dd26f16cff",
            "placeholder": "​",
            "style": "IPY_MODEL_a1fa35e9c67241a1981d1aaf5bd53e93",
            "value": " 4542/4542 [00:00&lt;00:00, 136573.70it/s]"
          }
        },
        "158e5b84e3c34cd098986a218dd67501": {
          "model_module": "@jupyter-widgets/base",
          "model_name": "LayoutModel",
          "model_module_version": "1.2.0",
          "state": {
            "_model_module": "@jupyter-widgets/base",
            "_model_module_version": "1.2.0",
            "_model_name": "LayoutModel",
            "_view_count": null,
            "_view_module": "@jupyter-widgets/base",
            "_view_module_version": "1.2.0",
            "_view_name": "LayoutView",
            "align_content": null,
            "align_items": null,
            "align_self": null,
            "border": null,
            "bottom": null,
            "display": null,
            "flex": null,
            "flex_flow": null,
            "grid_area": null,
            "grid_auto_columns": null,
            "grid_auto_flow": null,
            "grid_auto_rows": null,
            "grid_column": null,
            "grid_gap": null,
            "grid_row": null,
            "grid_template_areas": null,
            "grid_template_columns": null,
            "grid_template_rows": null,
            "height": null,
            "justify_content": null,
            "justify_items": null,
            "left": null,
            "margin": null,
            "max_height": null,
            "max_width": null,
            "min_height": null,
            "min_width": null,
            "object_fit": null,
            "object_position": null,
            "order": null,
            "overflow": null,
            "overflow_x": null,
            "overflow_y": null,
            "padding": null,
            "right": null,
            "top": null,
            "visibility": null,
            "width": null
          }
        },
        "7f9dcd8266c44fa1b4c65e2b4664b729": {
          "model_module": "@jupyter-widgets/base",
          "model_name": "LayoutModel",
          "model_module_version": "1.2.0",
          "state": {
            "_model_module": "@jupyter-widgets/base",
            "_model_module_version": "1.2.0",
            "_model_name": "LayoutModel",
            "_view_count": null,
            "_view_module": "@jupyter-widgets/base",
            "_view_module_version": "1.2.0",
            "_view_name": "LayoutView",
            "align_content": null,
            "align_items": null,
            "align_self": null,
            "border": null,
            "bottom": null,
            "display": null,
            "flex": null,
            "flex_flow": null,
            "grid_area": null,
            "grid_auto_columns": null,
            "grid_auto_flow": null,
            "grid_auto_rows": null,
            "grid_column": null,
            "grid_gap": null,
            "grid_row": null,
            "grid_template_areas": null,
            "grid_template_columns": null,
            "grid_template_rows": null,
            "height": null,
            "justify_content": null,
            "justify_items": null,
            "left": null,
            "margin": null,
            "max_height": null,
            "max_width": null,
            "min_height": null,
            "min_width": null,
            "object_fit": null,
            "object_position": null,
            "order": null,
            "overflow": null,
            "overflow_x": null,
            "overflow_y": null,
            "padding": null,
            "right": null,
            "top": null,
            "visibility": null,
            "width": null
          }
        },
        "d4e0a838a3de4aaa861d5a0b2f73f7b7": {
          "model_module": "@jupyter-widgets/controls",
          "model_name": "DescriptionStyleModel",
          "model_module_version": "1.5.0",
          "state": {
            "_model_module": "@jupyter-widgets/controls",
            "_model_module_version": "1.5.0",
            "_model_name": "DescriptionStyleModel",
            "_view_count": null,
            "_view_module": "@jupyter-widgets/base",
            "_view_module_version": "1.2.0",
            "_view_name": "StyleView",
            "description_width": ""
          }
        },
        "ae38e3eb119e4a2986d85da68a85c23a": {
          "model_module": "@jupyter-widgets/base",
          "model_name": "LayoutModel",
          "model_module_version": "1.2.0",
          "state": {
            "_model_module": "@jupyter-widgets/base",
            "_model_module_version": "1.2.0",
            "_model_name": "LayoutModel",
            "_view_count": null,
            "_view_module": "@jupyter-widgets/base",
            "_view_module_version": "1.2.0",
            "_view_name": "LayoutView",
            "align_content": null,
            "align_items": null,
            "align_self": null,
            "border": null,
            "bottom": null,
            "display": null,
            "flex": null,
            "flex_flow": null,
            "grid_area": null,
            "grid_auto_columns": null,
            "grid_auto_flow": null,
            "grid_auto_rows": null,
            "grid_column": null,
            "grid_gap": null,
            "grid_row": null,
            "grid_template_areas": null,
            "grid_template_columns": null,
            "grid_template_rows": null,
            "height": null,
            "justify_content": null,
            "justify_items": null,
            "left": null,
            "margin": null,
            "max_height": null,
            "max_width": null,
            "min_height": null,
            "min_width": null,
            "object_fit": null,
            "object_position": null,
            "order": null,
            "overflow": null,
            "overflow_x": null,
            "overflow_y": null,
            "padding": null,
            "right": null,
            "top": null,
            "visibility": null,
            "width": null
          }
        },
        "f6ba2c0698c14a33a626ab9bad41b5eb": {
          "model_module": "@jupyter-widgets/controls",
          "model_name": "ProgressStyleModel",
          "model_module_version": "1.5.0",
          "state": {
            "_model_module": "@jupyter-widgets/controls",
            "_model_module_version": "1.5.0",
            "_model_name": "ProgressStyleModel",
            "_view_count": null,
            "_view_module": "@jupyter-widgets/base",
            "_view_module_version": "1.2.0",
            "_view_name": "StyleView",
            "bar_color": null,
            "description_width": ""
          }
        },
        "6d96532ad6a7466b9f3669dd26f16cff": {
          "model_module": "@jupyter-widgets/base",
          "model_name": "LayoutModel",
          "model_module_version": "1.2.0",
          "state": {
            "_model_module": "@jupyter-widgets/base",
            "_model_module_version": "1.2.0",
            "_model_name": "LayoutModel",
            "_view_count": null,
            "_view_module": "@jupyter-widgets/base",
            "_view_module_version": "1.2.0",
            "_view_name": "LayoutView",
            "align_content": null,
            "align_items": null,
            "align_self": null,
            "border": null,
            "bottom": null,
            "display": null,
            "flex": null,
            "flex_flow": null,
            "grid_area": null,
            "grid_auto_columns": null,
            "grid_auto_flow": null,
            "grid_auto_rows": null,
            "grid_column": null,
            "grid_gap": null,
            "grid_row": null,
            "grid_template_areas": null,
            "grid_template_columns": null,
            "grid_template_rows": null,
            "height": null,
            "justify_content": null,
            "justify_items": null,
            "left": null,
            "margin": null,
            "max_height": null,
            "max_width": null,
            "min_height": null,
            "min_width": null,
            "object_fit": null,
            "object_position": null,
            "order": null,
            "overflow": null,
            "overflow_x": null,
            "overflow_y": null,
            "padding": null,
            "right": null,
            "top": null,
            "visibility": null,
            "width": null
          }
        },
        "a1fa35e9c67241a1981d1aaf5bd53e93": {
          "model_module": "@jupyter-widgets/controls",
          "model_name": "DescriptionStyleModel",
          "model_module_version": "1.5.0",
          "state": {
            "_model_module": "@jupyter-widgets/controls",
            "_model_module_version": "1.5.0",
            "_model_name": "DescriptionStyleModel",
            "_view_count": null,
            "_view_module": "@jupyter-widgets/base",
            "_view_module_version": "1.2.0",
            "_view_name": "StyleView",
            "description_width": ""
          }
        }
      }
    }
  },
  "cells": [
    {
      "cell_type": "markdown",
      "source": [
        "# 🏁 5주차 미션\n",
        "- Pytorch를 이용해 직접 이미지 데이터를 간단한 모델로 학습해보는 실습을 진행해보도록 하겠습니다.\n",
        "- MNIST는 손글씨 데이터셋으로 0~9까지의 숫자를 분류하는 문제입니다.\n",
        "- 각 단계별 구현 방법은 중요한 내용이기 때문에 하나씩 구현해보세요."
      ],
      "metadata": {
        "id": "gaAkD5rnGUar"
      }
    },
    {
      "cell_type": "markdown",
      "source": [
        "### 📌Q1. 가장 먼저 학습 데이터를 준비해보도록 하겠습니다. MNIST 데이터셋을 직접 Load해봅시다. 데이터셋을 로드하고 DataLoader를 구현해보세요.\n",
        "- DataLoader를 이용해 MNIST 데이터셋을 로드해봅시다.\n",
        "\n",
        "```python\n",
        "# 코드 예제\n",
        "import torch\n",
        "import torch.nn as nn\n",
        "import torchvision.datasets as dset\n",
        "import torchvision.transforms as transforms\n",
        "from torch.utils.data import DataLoader\n",
        "\n",
        "training_epochs = 15 # traning 반복 횟수\n",
        "batch_size = 100\n",
        "\n",
        "root = './data'\n",
        "mnist_train = dset.MNIST(root=root, train=True, transform=transform, download=True)\n",
        "mnist_test = dset.MNIST(root=root, train=False, transform=transform, download=True)\n",
        "\n",
        "# data loder를 직접 구현해보자.\n",
        "train_loader = # 구현\n",
        "test_loader = # 구현\n",
        "```"
      ],
      "metadata": {
        "id": "N6T9g6BrGIUl"
      }
    },
    {
      "cell_type": "code",
      "source": [
        "import torch\n",
        "import torch.nn as nn\n",
        "import torchvision.datasets as dset\n",
        "import torchvision.transforms as transforms\n",
        "from torch.utils.data import DataLoader\n",
        "\n",
        "training_epochs = 15 # traning 반복 횟수\n",
        "batch_size = 100 # 보통 batch size는 2의 배수 단위로 설정 (컴퓨터의 2진 단위 데이터 전송 때문)\n",
        "\n",
        "root = './data'\n",
        "# transforms.ToTensor()를 통해, data의 타입을 Tensor 형태로 쉽게 변환 가능\n",
        "mnist_train = dset.MNIST(root=root, train=True, transform=transforms.ToTensor(), download=True)\n",
        "mnist_test = dset.MNIST(root=root, train=False, transform=transforms.ToTensor(), download=True)\n",
        "\n",
        "# data loder를 직접 구현해보자.\n",
        "train_loader = DataLoader(\n",
        "    mnist_train, # 위에서 정의한 학습용 MNIST dataset\n",
        "    batch_size = batch_size, # data를 받아오는 단위인 batch_size 설정\n",
        "    shuffle = True, # 학습 순서 무작위로 섞기\n",
        "    drop_last = True # batch_size 단위로 data를 받아올 수 없는 경우 마지막 데이터는 버린다.\n",
        ")\n",
        "test_loader = DataLoader(\n",
        "    mnist_test, # 위에서 정의한 검증용 MNIST dataset\n",
        "    batch_size = batch_size,  \n",
        "    shuffle = False, # 검증할 때는 순서를 섞지 않는다.\n",
        ")"
      ],
      "metadata": {
        "colab": {
          "base_uri": "https://localhost:8080/",
          "height": 431,
          "referenced_widgets": [
            "ef8f030035384d7d943f8369f327fe0e",
            "2c580a0d530d4d97848412774597fc2d",
            "c7b57849266945ff84c786ee71be10f4",
            "4eaa4b2ee6134b58bb9ccb4f8a7e796d",
            "2d067c3198184d36a3a54a44756c78fb",
            "12c9050d440c400bab0ef024e534ac43",
            "7ce4ff6598ed436481926137a45cd6cd",
            "fcb5e09f393c47a3ab65a93e17adde40",
            "e607e9a29d1545508297e76989d24fa1",
            "4d267005090f4910b60513cfe5c562eb",
            "be928c686f484035a60d9c8f2e61aa0b",
            "983927702edf492f8e0cbca36e508c4c",
            "63891318a21e48a6a8d42b746d288a09",
            "35c986fc54d34ae0b00761af9205e094",
            "04ff2748bbcf4f0993b35db55542dd6e",
            "680a6a3080c9478bacbec170611c20cf",
            "63d974797e854eb480cc9d95d4c992f0",
            "b606a4f412b64e5084a692c6ac99e9ac",
            "3153b9d3cab0451bba24b1857c37313d",
            "174d5db165c14f749ee335a1e37df452",
            "02c76560f1b446d0929541ecb752fc7c",
            "5881a27951f74658bc8fc9b358390bdf",
            "7fc7af5a8c5c470f960e6f2ec0ea00ec",
            "79a0be090e814a388590e3faf248e1e4",
            "0a4c6127e89e4883b114fb15f1c1d3f2",
            "39d309446ba64656810429e9579023f2",
            "7e93b15bc44b42579d8f3076fd3cd667",
            "554075d0c8b6496ea842a6a6dd4cf780",
            "bbce10ecd6e94a98a7cd704075691004",
            "f276855d7acc4063a8c0f1f2cd3f13e8",
            "c3c5ef5bc203468380b5b0b83e755a2f",
            "7961903ec0284083a3d2cdc74aaea4b5",
            "30e57cd3a78747a8bf26002f881563f1",
            "c46a26b4bc0441019441baec3ff0b424",
            "d5bb2543c52746fcbb337e6b3f8e142b",
            "f74bef9c05c24fc6887c2f795d04ef79",
            "e007bb00bf0547debdbaa1f45f068ad2",
            "158e5b84e3c34cd098986a218dd67501",
            "7f9dcd8266c44fa1b4c65e2b4664b729",
            "d4e0a838a3de4aaa861d5a0b2f73f7b7",
            "ae38e3eb119e4a2986d85da68a85c23a",
            "f6ba2c0698c14a33a626ab9bad41b5eb",
            "6d96532ad6a7466b9f3669dd26f16cff",
            "a1fa35e9c67241a1981d1aaf5bd53e93"
          ]
        },
        "id": "8TcS5Qh4GINe",
        "outputId": "543f2538-8b0c-4aec-aa80-d1b11e082623"
      },
      "execution_count": 2,
      "outputs": [
        {
          "output_type": "stream",
          "name": "stdout",
          "text": [
            "Downloading http://yann.lecun.com/exdb/mnist/train-images-idx3-ubyte.gz\n",
            "Downloading http://yann.lecun.com/exdb/mnist/train-images-idx3-ubyte.gz to ./data/MNIST/raw/train-images-idx3-ubyte.gz\n"
          ]
        },
        {
          "output_type": "display_data",
          "data": {
            "text/plain": [
              "  0%|          | 0/9912422 [00:00<?, ?it/s]"
            ],
            "application/vnd.jupyter.widget-view+json": {
              "version_major": 2,
              "version_minor": 0,
              "model_id": "ef8f030035384d7d943f8369f327fe0e"
            }
          },
          "metadata": {}
        },
        {
          "output_type": "stream",
          "name": "stdout",
          "text": [
            "Extracting ./data/MNIST/raw/train-images-idx3-ubyte.gz to ./data/MNIST/raw\n",
            "\n",
            "Downloading http://yann.lecun.com/exdb/mnist/train-labels-idx1-ubyte.gz\n",
            "Downloading http://yann.lecun.com/exdb/mnist/train-labels-idx1-ubyte.gz to ./data/MNIST/raw/train-labels-idx1-ubyte.gz\n"
          ]
        },
        {
          "output_type": "display_data",
          "data": {
            "text/plain": [
              "  0%|          | 0/28881 [00:00<?, ?it/s]"
            ],
            "application/vnd.jupyter.widget-view+json": {
              "version_major": 2,
              "version_minor": 0,
              "model_id": "983927702edf492f8e0cbca36e508c4c"
            }
          },
          "metadata": {}
        },
        {
          "output_type": "stream",
          "name": "stdout",
          "text": [
            "Extracting ./data/MNIST/raw/train-labels-idx1-ubyte.gz to ./data/MNIST/raw\n",
            "\n",
            "Downloading http://yann.lecun.com/exdb/mnist/t10k-images-idx3-ubyte.gz\n",
            "Downloading http://yann.lecun.com/exdb/mnist/t10k-images-idx3-ubyte.gz to ./data/MNIST/raw/t10k-images-idx3-ubyte.gz\n"
          ]
        },
        {
          "output_type": "display_data",
          "data": {
            "text/plain": [
              "  0%|          | 0/1648877 [00:00<?, ?it/s]"
            ],
            "application/vnd.jupyter.widget-view+json": {
              "version_major": 2,
              "version_minor": 0,
              "model_id": "7fc7af5a8c5c470f960e6f2ec0ea00ec"
            }
          },
          "metadata": {}
        },
        {
          "output_type": "stream",
          "name": "stdout",
          "text": [
            "Extracting ./data/MNIST/raw/t10k-images-idx3-ubyte.gz to ./data/MNIST/raw\n",
            "\n",
            "Downloading http://yann.lecun.com/exdb/mnist/t10k-labels-idx1-ubyte.gz\n",
            "Downloading http://yann.lecun.com/exdb/mnist/t10k-labels-idx1-ubyte.gz to ./data/MNIST/raw/t10k-labels-idx1-ubyte.gz\n"
          ]
        },
        {
          "output_type": "display_data",
          "data": {
            "text/plain": [
              "  0%|          | 0/4542 [00:00<?, ?it/s]"
            ],
            "application/vnd.jupyter.widget-view+json": {
              "version_major": 2,
              "version_minor": 0,
              "model_id": "c46a26b4bc0441019441baec3ff0b424"
            }
          },
          "metadata": {}
        },
        {
          "output_type": "stream",
          "name": "stdout",
          "text": [
            "Extracting ./data/MNIST/raw/t10k-labels-idx1-ubyte.gz to ./data/MNIST/raw\n",
            "\n"
          ]
        }
      ]
    },
    {
      "cell_type": "code",
      "source": [
        "print(mnist_train)\n",
        "print(mnist_test)"
      ],
      "metadata": {
        "colab": {
          "base_uri": "https://localhost:8080/"
        },
        "id": "tCYp_ODtGcFN",
        "outputId": "77e84eb1-f902-486c-91c1-5aec451e8ad7"
      },
      "execution_count": 3,
      "outputs": [
        {
          "output_type": "stream",
          "name": "stdout",
          "text": [
            "Dataset MNIST\n",
            "    Number of datapoints: 60000\n",
            "    Root location: ./data\n",
            "    Split: Train\n",
            "    StandardTransform\n",
            "Transform: ToTensor()\n",
            "Dataset MNIST\n",
            "    Number of datapoints: 10000\n",
            "    Root location: ./data\n",
            "    Split: Test\n",
            "    StandardTransform\n",
            "Transform: ToTensor()\n"
          ]
        }
      ]
    },
    {
      "cell_type": "code",
      "source": [
        "print(train_loader)\n",
        "print(test_loader)"
      ],
      "metadata": {
        "colab": {
          "base_uri": "https://localhost:8080/"
        },
        "id": "ywOT5EVWGsLw",
        "outputId": "95008f77-e36d-4ef2-e96f-02fa70191400"
      },
      "execution_count": 4,
      "outputs": [
        {
          "output_type": "stream",
          "name": "stdout",
          "text": [
            "<torch.utils.data.dataloader.DataLoader object at 0x7f1992c3c0a0>\n",
            "<torch.utils.data.dataloader.DataLoader object at 0x7f1992c3cca0>\n"
          ]
        }
      ]
    },
    {
      "cell_type": "markdown",
      "source": [
        "### 📌Q2. 데이터가 준비 되었다면, 이제 그 데이터를 학습할 모델을 구현할 차례입니다. 그 후 모델 안의 가중치를 초기화시켜보세요. 입력 데이터 형태에 맞도록 linear한 모델을 구성해보세요.\n",
        "- MNIST 입력의 크기는 28x28입니다.\n",
        "- 여기서 구현하는 linear 모델은 입력이 1차원이기 때문에 입력 차원을 맞춰보세요.\n",
        "\n",
        "```python\n",
        "device = torch.device('cuda' if torch.cuda.is_available() else 'cpu')\n",
        "linear = # 구현\n",
        "# weight init\n",
        "```"
      ],
      "metadata": {
        "id": "1BnHqqPiGafh"
      }
    },
    {
      "cell_type": "code",
      "source": [
        "# GPU를 사용 가능할 경우, device에 'cuda'를 사용하도록 명시\n",
        "device = torch.device('cuda' if torch.cuda.is_available() else 'cpu')\n",
        "linear = nn.Linear(\n",
        "    in_features = 28*28, # MNIST 입력 포맷: 28x28 = 784\n",
        "    out_features = 10 # MNIST label의 포맷: 0~9까지의 숫자\n",
        "    )\n",
        "\n",
        "# 가중치 초기화\n",
        "# 평균이 0이고, 표준편차가 1이 되도록 표준 정규 분포로 초기화\n",
        "linear.weight.data.normal_(mean=0.0, std=1.0)\n",
        "print(linear.weight.data)\n",
        "print(f'Mean: {linear.weight.data.mean()}')\n",
        "print(f'Std: {linear.weight.data.std()}')"
      ],
      "metadata": {
        "colab": {
          "base_uri": "https://localhost:8080/"
        },
        "id": "H9nWQkkmGzE9",
        "outputId": "5667a302-eeff-4309-d138-381e836b1bc0"
      },
      "execution_count": 5,
      "outputs": [
        {
          "output_type": "stream",
          "name": "stdout",
          "text": [
            "tensor([[-1.1915,  1.3020, -1.1805,  ...,  0.5777,  1.7988, -0.9239],\n",
            "        [ 0.9808, -0.2161,  1.7329,  ..., -0.6160, -0.1929, -0.4549],\n",
            "        [-0.6816,  1.0100, -0.3637,  ...,  1.4000, -0.2851, -0.3455],\n",
            "        ...,\n",
            "        [-0.1441, -2.3945, -1.5977,  ...,  0.3560, -1.8190,  0.0631],\n",
            "        [ 0.2929, -0.3353,  0.0384,  ..., -0.6935, -0.8259,  0.3398],\n",
            "        [-0.1684, -1.1390, -0.7272,  ..., -0.8310, -1.5586,  0.8902]])\n",
            "Mean: 0.01698700711131096\n",
            "Std: 0.9937076568603516\n"
          ]
        }
      ]
    },
    {
      "cell_type": "code",
      "source": [
        "print(linear)"
      ],
      "metadata": {
        "colab": {
          "base_uri": "https://localhost:8080/"
        },
        "id": "bccNMFaZGzOM",
        "outputId": "abc3cbc2-8c1d-44dc-c592-827236665f0e"
      },
      "execution_count": 6,
      "outputs": [
        {
          "output_type": "stream",
          "name": "stdout",
          "text": [
            "Linear(in_features=784, out_features=10, bias=True)\n"
          ]
        }
      ]
    },
    {
      "cell_type": "markdown",
      "source": [
        "### 📌Q3. 위에서 구현한 모델을 학습시키기 위해서는 loss 함수와 optimizer가 필요합니다. 아래 제시된 loss 함수와 optimizer를 구현해보세요. Loss 함수와 optimizer는 모델 안의 가중치를 업데이트 할 때 사용됩니다.\n",
        "- 옵티마이저는 SGD, Loss는 Cross Entropy Loss를 사용합니다.\n",
        "\n",
        "```python\n",
        "# Loss ftn - Cross Entropy Loss\n",
        "criterion = # 구현\n",
        "\n",
        "# Optimizer - SGD\n",
        "optimizer = # 구현\n",
        "```"
      ],
      "metadata": {
        "id": "04chGt_HG2bZ"
      }
    },
    {
      "cell_type": "code",
      "source": [
        "# Loss ftn - Cross Entropy Loss\n",
        "criterion = nn.CrossEntropyLoss().to(device)\n",
        "\n",
        "# Optimizer - SGD\n",
        "learning_rate = 0.1 # 학습률\n",
        "optimizer = torch.optim.SGD(linear.parameters(), lr=learning_rate)"
      ],
      "metadata": {
        "id": "tMccymiNG6bI"
      },
      "execution_count": 7,
      "outputs": []
    },
    {
      "cell_type": "code",
      "source": [
        "print(criterion)\n",
        "print(optimizer)"
      ],
      "metadata": {
        "colab": {
          "base_uri": "https://localhost:8080/"
        },
        "id": "FoddPN5kG6d2",
        "outputId": "dc7f25af-5516-452f-abe2-11e8e63e3bbf"
      },
      "execution_count": 8,
      "outputs": [
        {
          "output_type": "stream",
          "name": "stdout",
          "text": [
            "CrossEntropyLoss()\n",
            "SGD (\n",
            "Parameter Group 0\n",
            "    dampening: 0\n",
            "    differentiable: False\n",
            "    foreach: None\n",
            "    lr: 0.1\n",
            "    maximize: False\n",
            "    momentum: 0\n",
            "    nesterov: False\n",
            "    weight_decay: 0\n",
            ")\n"
          ]
        }
      ]
    },
    {
      "cell_type": "markdown",
      "source": [
        "### 📌Q4. 3번 문제까지 해결하셨다면, 이제 학습을 위한 준비는 거의 끝났다고 볼 수 있습니다. 위 구현 함수들을 이용해 학습 Loop를 구현해보세요.\n",
        "- 위에서 구현한 모델, optimizer, loss function 등을 이용해 학습을 구현해주세요.\n",
        "\n",
        "```python\n",
        "for epoch in range(training_epochs):\n",
        "    for i, (imgs, labels) in enumerate(train_loader):\n",
        "        imgs, labels = imgs.to(device), labels.to(device)\n",
        "        imgs = imgs.view(-1, 28*28)\n",
        "\n",
        "        outputs = # 구현\n",
        "        loss = # 구현\n",
        "\n",
        "        optimizer. # optimizer zero grad 구현\n",
        "        loss. # loss backward 구현\n",
        "        optimizer. # optimizer step 구현\n",
        "\n",
        "        _, argmax = torch.max(outputs, 1)\n",
        "        accuracy = (labels == argmax).float().mean()\n",
        "\n",
        "        if (i+1) % 100 == 0:\n",
        "            print('Epoch [{}/{}], Step [{}/{}], Loss {:.4f}, Accuracy: {:.2f}%'.format\n",
        "            (epoch+1, training_epochs, i+1, len(train_loader), loss.item(0, accuracy.item()*100))\n",
        "```"
      ],
      "metadata": {
        "id": "IlcCsMQZHDZg"
      }
    },
    {
      "cell_type": "code",
      "source": [
        "linear.to(device)\n",
        "next(linear.parameters()).get_device()"
      ],
      "metadata": {
        "colab": {
          "base_uri": "https://localhost:8080/"
        },
        "id": "1I_BDbhbHAFt",
        "outputId": "e5c4415e-9074-4e72-facc-1b609a9cd8f9"
      },
      "execution_count": 9,
      "outputs": [
        {
          "output_type": "execute_result",
          "data": {
            "text/plain": [
              "-1"
            ]
          },
          "metadata": {},
          "execution_count": 9
        }
      ]
    },
    {
      "cell_type": "code",
      "source": [
        "# 위에서 설정한 training_epoch 만큼 for loop을 돌면서, 학습 수행\n",
        "for epoch in range(training_epochs):\n",
        "    # 학습에 사용할 img data와 loss를 계산할 때 사용할 label을 dataloader로부터 받아옴\n",
        "    for i, (imgs, labels) in enumerate(train_loader):\n",
        "        # 받아온 data를 각 장치에 보내고 변수에 넣는다.\n",
        "        imgs, labels = imgs.to(device), labels.to(device)\n",
        "        # MNIST 이미지는 2차원이므로, Linear 모델에 적합하도록 1차원으로 풀어줌\n",
        "        imgs = imgs.view(-1, 28*28)\n",
        "\n",
        "        # 앞서 선언한 linear 모델에 train 데이터를 입력\n",
        "        # print(imgs.get_device())\n",
        "        # print(next(linear.parameters()).get_device())\n",
        "        outputs = linear(imgs)\n",
        "\n",
        "        # 위에서 설정한 Cross Entropy Loss에 모델의 출력 값과 정답 값을 넣어줌\n",
        "        loss = criterion(outputs, labels)\n",
        "\n",
        "        # loop를 돌고 난 후 역전파 과정에서 gradient가 누적되지 않도록 zero_grad() 사용\n",
        "        optimizer.zero_grad() \n",
        "        # loss를 통해 각 node의 gradient를 역전파를 통해서 구함\n",
        "        loss.backward() \n",
        "        # 계산된 gradient를 통해 각 weight, bias를 업데이트\n",
        "        optimizer.step()\n",
        "\n",
        "        # 출력이 가장 큰 data의 index 반환\n",
        "        _, argmax = torch.max(outputs, 1)\n",
        "        # 값이 같으면 1, 같지 않으면 0\n",
        "        # 제대로 분류된 개수의 평균 = 정확도\n",
        "        accuracy = (labels == argmax).float().mean()\n",
        "\n",
        "        if (i+1) % 100 == 0:\n",
        "            print('Epoch [{}/{}], Step [{}/{}], Loss {:.4f}, Accuracy: {:.2f}%'.format(\n",
        "                epoch+1, training_epochs, i+1, len(train_loader), loss.item(), accuracy.item()*100))"
      ],
      "metadata": {
        "colab": {
          "base_uri": "https://localhost:8080/"
        },
        "id": "3fH-HzhUHGNu",
        "outputId": "0c533385-ad30-4997-cb29-07267e09b169"
      },
      "execution_count": null,
      "outputs": [
        {
          "output_type": "stream",
          "name": "stdout",
          "text": [
            "Epoch [1/15], Step [100/600], Loss 3.2822, Accuracy: 53.00%\n",
            "Epoch [1/15], Step [200/600], Loss 2.4761, Accuracy: 58.00%\n",
            "Epoch [1/15], Step [300/600], Loss 1.4987, Accuracy: 71.00%\n",
            "Epoch [1/15], Step [400/600], Loss 1.1577, Accuracy: 73.00%\n",
            "Epoch [1/15], Step [500/600], Loss 1.3212, Accuracy: 75.00%\n",
            "Epoch [1/15], Step [600/600], Loss 0.9560, Accuracy: 79.00%\n",
            "Epoch [2/15], Step [100/600], Loss 1.2269, Accuracy: 80.00%\n",
            "Epoch [2/15], Step [200/600], Loss 0.7297, Accuracy: 86.00%\n",
            "Epoch [2/15], Step [300/600], Loss 0.8456, Accuracy: 84.00%\n",
            "Epoch [2/15], Step [400/600], Loss 1.0409, Accuracy: 84.00%\n",
            "Epoch [2/15], Step [500/600], Loss 0.4868, Accuracy: 91.00%\n",
            "Epoch [2/15], Step [600/600], Loss 0.5946, Accuracy: 82.00%\n",
            "Epoch [3/15], Step [100/600], Loss 0.7985, Accuracy: 81.00%\n",
            "Epoch [3/15], Step [200/600], Loss 0.7393, Accuracy: 81.00%\n",
            "Epoch [3/15], Step [300/600], Loss 0.7559, Accuracy: 86.00%\n",
            "Epoch [3/15], Step [400/600], Loss 1.0810, Accuracy: 79.00%\n",
            "Epoch [3/15], Step [500/600], Loss 0.8571, Accuracy: 81.00%\n",
            "Epoch [3/15], Step [600/600], Loss 1.2313, Accuracy: 78.00%\n",
            "Epoch [4/15], Step [100/600], Loss 0.9637, Accuracy: 77.00%\n",
            "Epoch [4/15], Step [200/600], Loss 1.2852, Accuracy: 84.00%\n",
            "Epoch [4/15], Step [300/600], Loss 0.9060, Accuracy: 81.00%\n",
            "Epoch [4/15], Step [400/600], Loss 0.9911, Accuracy: 76.00%\n",
            "Epoch [4/15], Step [500/600], Loss 0.6808, Accuracy: 85.00%\n",
            "Epoch [4/15], Step [600/600], Loss 0.7429, Accuracy: 86.00%\n",
            "Epoch [5/15], Step [100/600], Loss 0.7591, Accuracy: 82.00%\n",
            "Epoch [5/15], Step [200/600], Loss 0.6024, Accuracy: 90.00%\n",
            "Epoch [5/15], Step [300/600], Loss 0.6368, Accuracy: 90.00%\n",
            "Epoch [5/15], Step [400/600], Loss 0.6455, Accuracy: 84.00%\n",
            "Epoch [5/15], Step [500/600], Loss 0.6051, Accuracy: 86.00%\n",
            "Epoch [5/15], Step [600/600], Loss 0.3637, Accuracy: 92.00%\n",
            "Epoch [6/15], Step [100/600], Loss 0.7795, Accuracy: 83.00%\n",
            "Epoch [6/15], Step [200/600], Loss 0.7255, Accuracy: 84.00%\n",
            "Epoch [6/15], Step [300/600], Loss 0.5164, Accuracy: 90.00%\n",
            "Epoch [6/15], Step [400/600], Loss 0.7375, Accuracy: 83.00%\n",
            "Epoch [6/15], Step [500/600], Loss 1.1297, Accuracy: 83.00%\n",
            "Epoch [6/15], Step [600/600], Loss 0.2957, Accuracy: 88.00%\n",
            "Epoch [7/15], Step [100/600], Loss 0.4715, Accuracy: 88.00%\n",
            "Epoch [7/15], Step [200/600], Loss 0.6516, Accuracy: 84.00%\n",
            "Epoch [7/15], Step [300/600], Loss 0.4951, Accuracy: 87.00%\n",
            "Epoch [7/15], Step [400/600], Loss 0.6664, Accuracy: 86.00%\n",
            "Epoch [7/15], Step [500/600], Loss 0.5731, Accuracy: 88.00%\n",
            "Epoch [7/15], Step [600/600], Loss 0.6901, Accuracy: 87.00%\n",
            "Epoch [8/15], Step [100/600], Loss 0.2926, Accuracy: 91.00%\n",
            "Epoch [8/15], Step [200/600], Loss 0.5082, Accuracy: 86.00%\n",
            "Epoch [8/15], Step [300/600], Loss 0.6616, Accuracy: 89.00%\n"
          ]
        }
      ]
    },
    {
      "cell_type": "code",
      "source": [],
      "metadata": {
        "id": "ru6qJ388HIz5"
      },
      "execution_count": null,
      "outputs": []
    },
    {
      "cell_type": "markdown",
      "source": [
        "### 📌Q5. 학습이 완료되면, 모델이 잘 동작하는지 테스트가 필요합니다. 데이터로드 파트에서 준비했던 테스트 데이터를 이용해 테스트를 진행해봅시다. 아래 테스트 코드를 완성해보세요.\n",
        "\n",
        "```python\n",
        "linear.eval()\n",
        "with torch.no_grad():\n",
        "    correct = 0\n",
        "    total = 0\n",
        "    for i, (img, labels) in enumerate(test_loader):\n",
        "        imgs, labels = imgs.to(device), labels.to(device)\n",
        "        imgs = imgs.view(-1, 28*28)\n",
        "\n",
        "        outputs = # 구현\n",
        "\n",
        "        _, argmax = torch.max(outputs, 1) # max()를 통해 최종 출력이 가장 높은 class 선택\n",
        "        total += imgs.size(0)\n",
        "        correct += (labels == argmax).sum().item()\n",
        "\n",
        "        print('Test accuracy for {} images: {:.2f}%'.format(total, correct/total*100))\n",
        "```"
      ],
      "metadata": {
        "id": "1gw6fYZHHMl2"
      }
    },
    {
      "cell_type": "code",
      "source": [
        "# 각 모델의 평가 과정에서 필요하지 않은 layer를 off 하는 함수\n",
        "linear.eval()\n",
        "# 테스트의 경우, 가중치의 업데이트가 되어선 안되므로 no_grad() 사용\n",
        "with torch.no_grad():\n",
        "    # 정확도를 계산하기 위한 total, correct 값 0으로 초기화\n",
        "    correct = 0\n",
        "    total = 0\n",
        "    # 위에서 설정한 test DataLoader에서 값을 받아옴\n",
        "    for i, (imgs, labels) in enumerate(test_loader):\n",
        "        # 각 장치로 전달\n",
        "        imgs, labels = imgs.to(device), labels.to(device)\n",
        "        # 모델 입력에 맞도록 1차원으로 변환\n",
        "        imgs = imgs.view(-1, 28*28)\n",
        "\n",
        "        # 모델에 test 데이터 넣어줌\n",
        "        outputs = linear(imgs)\n",
        "\n",
        "        _, argmax = torch.max(outputs, 1) # max()를 통해 최종 출력이 가장 높은 class 선택\n",
        "        # batch_size 만큼 total에 더함\n",
        "        total += imgs.size(0)\n",
        "        # 분류를 제대로 한 경우는 correct 변수에 더함\n",
        "        correct += (labels == argmax).sum().item()\n",
        "\n",
        "        # 정확도 출력\n",
        "        print('Test accuracy for {} images: {:.2f}%'.format(total, correct/total*100))"
      ],
      "metadata": {
        "id": "Hv_mvYmHHQcv"
      },
      "execution_count": null,
      "outputs": []
    },
    {
      "cell_type": "code",
      "source": [],
      "metadata": {
        "id": "8iKupT0BHQft"
      },
      "execution_count": null,
      "outputs": []
    }
  ]
}